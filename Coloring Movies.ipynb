{
 "cells": [
  {
   "cell_type": "markdown",
   "metadata": {},
   "source": [
    "## Importing libraries we need"
   ]
  },
  {
   "cell_type": "code",
   "execution_count": 42,
   "metadata": {},
   "outputs": [],
   "source": [
    "import numpy as np\n",
    "import keras\n",
    "from keras import backend as k\n",
    "from keras.models import Sequential\n",
    "from keras.layers import BatchNormalization , Conv2D , LeakyReLU,Conv2DTranspose\n",
    "from keras.optimizers import Adam\n",
    "from keras.preprocessing.image import ImageDataGenerator"
   ]
  },
  {
   "cell_type": "markdown",
   "metadata": {},
   "source": [
    "## Handling input and output Data for Training"
   ]
  },
  {
   "cell_type": "code",
   "execution_count": null,
   "metadata": {},
   "outputs": [],
   "source": []
  },
  {
   "cell_type": "markdown",
   "metadata": {},
   "source": [
    "## Building our model"
   ]
  },
  {
   "cell_type": "code",
   "execution_count": 43,
   "metadata": {},
   "outputs": [
    {
     "name": "stdout",
     "output_type": "stream",
     "text": [
      "_________________________________________________________________\n",
      "Layer (type)                 Output Shape              Param #   \n",
      "=================================================================\n",
      "batch_normalization_31 (Batc (None, 256, 256, 1)       4         \n",
      "_________________________________________________________________\n",
      "conv1 (Conv2D)               (None, 256, 256, 64)      1088      \n",
      "_________________________________________________________________\n",
      "leaky_re_lu_133 (LeakyReLU)  (None, 256, 256, 64)      0         \n",
      "_________________________________________________________________\n",
      "conv2 (Conv2D)               (None, 128, 128, 64)      65600     \n",
      "_________________________________________________________________\n",
      "leaky_re_lu_134 (LeakyReLU)  (None, 128, 128, 64)      0         \n",
      "_________________________________________________________________\n",
      "conv3 (Conv2D)               (None, 64, 64, 128)       131200    \n",
      "_________________________________________________________________\n",
      "leaky_re_lu_135 (LeakyReLU)  (None, 64, 64, 128)       0         \n",
      "_________________________________________________________________\n",
      "conv4 (Conv2D)               (None, 32, 32, 256)       524544    \n",
      "_________________________________________________________________\n",
      "leaky_re_lu_136 (LeakyReLU)  (None, 32, 32, 256)       0         \n",
      "_________________________________________________________________\n",
      "conv5 (Conv2D)               (None, 16, 16, 512)       2097664   \n",
      "_________________________________________________________________\n",
      "leaky_re_lu_137 (LeakyReLU)  (None, 16, 16, 512)       0         \n",
      "_________________________________________________________________\n",
      "conv6 (Conv2D)               (None, 8, 8, 512)         4194816   \n",
      "_________________________________________________________________\n",
      "leaky_re_lu_138 (LeakyReLU)  (None, 8, 8, 512)         0         \n",
      "_________________________________________________________________\n",
      "conv7 (Conv2D)               (None, 4, 4, 512)         4194816   \n",
      "_________________________________________________________________\n",
      "leaky_re_lu_139 (LeakyReLU)  (None, 4, 4, 512)         0         \n",
      "_________________________________________________________________\n",
      "conv8 (Conv2D)               (None, 2, 2, 512)         4194816   \n",
      "_________________________________________________________________\n",
      "leaky_re_lu_140 (LeakyReLU)  (None, 2, 2, 512)         0         \n",
      "_________________________________________________________________\n",
      "deconv1 (Conv2DTranspose)    (None, 4, 4, 512)         4194816   \n",
      "_________________________________________________________________\n",
      "deconv2 (Conv2DTranspose)    (None, 8, 8, 512)         4194816   \n",
      "_________________________________________________________________\n",
      "deconv3 (Conv2DTranspose)    (None, 16, 16, 512)       4194816   \n",
      "_________________________________________________________________\n",
      "deconv4 (Conv2DTranspose)    (None, 32, 32, 256)       2097408   \n",
      "_________________________________________________________________\n",
      "deconv5 (Conv2DTranspose)    (None, 64, 64, 128)       524416    \n",
      "_________________________________________________________________\n",
      "deconv6 (Conv2DTranspose)    (None, 128, 128, 64)      131136    \n",
      "_________________________________________________________________\n",
      "deconv7 (Conv2DTranspose)    (None, 256, 256, 64)      65600     \n",
      "_________________________________________________________________\n",
      "last_layer (Conv2D)          (None, 256, 256, 3)       3075      \n",
      "=================================================================\n",
      "Total params: 30,810,631\n",
      "Trainable params: 30,810,629\n",
      "Non-trainable params: 2\n",
      "_________________________________________________________________\n"
     ]
    }
   ],
   "source": [
    "model = Sequential()\n",
    "model.add(BatchNormalization(input_shape=(256,256,1)))\n",
    "#encoder part\n",
    "model.add(Conv2D(64,(4,4),padding='same',strides=(1,1),name='conv1'))\n",
    "model.add(LeakyReLU(alpha=0.2))\n",
    "model.add(Conv2D(64,(4,4),padding='same',strides=(2,2),name='conv2'))\n",
    "model.add(LeakyReLU(alpha=0.2))\n",
    "model.add(Conv2D(128,(4,4),padding='same',strides=(2,2),name='conv3'))\n",
    "model.add(LeakyReLU(alpha=0.2))\n",
    "model.add(Conv2D(256,(4,4),padding='same',strides=(2,2),name='conv4'))\n",
    "model.add(LeakyReLU(alpha=0.2))\n",
    "model.add(Conv2D(512,(4,4),padding='same',strides=(2,2),name='conv5'))\n",
    "model.add(LeakyReLU(alpha=0.2))\n",
    "model.add(Conv2D(512,(4,4),padding='same',strides=(2,2),name='conv6'))\n",
    "model.add(LeakyReLU(alpha=0.2))\n",
    "model.add(Conv2D(512,(4,4),padding='same',strides=(2,2),name='conv7'))\n",
    "model.add(LeakyReLU(alpha=0.2))\n",
    "model.add(Conv2D(512,(4,4),padding='same',strides=(2,2),name='conv8'))\n",
    "model.add(LeakyReLU(alpha=0.2))\n",
    "#decoder part\n",
    "model.add(Conv2DTranspose(512,(4,4),padding='same',strides=(2,2),activation='relu',name='deconv1'))\n",
    "model.add(Conv2DTranspose(512,(4,4),padding='same',strides=(2,2),activation='relu',name='deconv2'))\n",
    "model.add(Conv2DTranspose(512,(4,4),padding='same',strides=(2,2),activation='relu',name='deconv3'))\n",
    "model.add(Conv2DTranspose(256,(4,4),padding='same',strides=(2,2),activation='relu',name='deconv4'))\n",
    "model.add(Conv2DTranspose(128,(4,4),padding='same',strides=(2,2),activation='relu',name='deconv5'))\n",
    "model.add(Conv2DTranspose(64,(4,4),padding='same',strides=(2,2),activation='relu',name='deconv6'))\n",
    "model.add(Conv2DTranspose(64,(4,4),padding='same',strides=(2,2),activation='relu',name='deconv7'))\n",
    "#last layer\n",
    "model.add(Conv2D(3,(4,4),padding='same',strides=(1,1),activation='tanh',name='last_layer'))\n",
    "model.summary()"
   ]
  },
  {
   "cell_type": "markdown",
   "metadata": {},
   "source": [
    "## Compiling model and train it"
   ]
  },
  {
   "cell_type": "code",
   "execution_count": null,
   "metadata": {},
   "outputs": [],
   "source": [
    "# compile our model\n",
    "model.compile(loss='mean_squared_error', optimizer='Adam', metrics=['accuracy'])\n",
    "# training our model\n",
    "model.fit_generator(,steps_per_epoch = len()/,validation_data =  \\\n",
    "                    ,validation_steps = len()/ ,epochs = ,verbose=2)\n",
    "#save our model\n",
    "model.save('movieColor.h5')"
   ]
  }
 ],
 "metadata": {
  "kernelspec": {
   "display_name": "Python 3",
   "language": "python",
   "name": "python3"
  },
  "language_info": {
   "codemirror_mode": {
    "name": "ipython",
    "version": 3
   },
   "file_extension": ".py",
   "mimetype": "text/x-python",
   "name": "python",
   "nbconvert_exporter": "python",
   "pygments_lexer": "ipython3",
   "version": "3.7.3"
  }
 },
 "nbformat": 4,
 "nbformat_minor": 2
}
